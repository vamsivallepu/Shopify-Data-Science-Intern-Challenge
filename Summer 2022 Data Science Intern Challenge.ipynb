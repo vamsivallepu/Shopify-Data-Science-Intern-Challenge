{
 "cells": [
  {
   "cell_type": "markdown",
   "id": "789db556",
   "metadata": {},
   "source": [
    "# Shopify Summer 2022 Data Science Intern Challege"
   ]
  },
  {
   "cell_type": "markdown",
   "id": "a705ffe7",
   "metadata": {},
   "source": [
    "**Question 1**: Given some sample data, write a program to answer the following: \n",
    "On Shopify, we have exactly 100 sneaker shops, and each of these shops sells only one model of shoe. We want to do some analysis of the average order value (AOV). When we look at orders data over a 30 day window, we naively calculate an AOV of $3145.13. Given that we know these shops are selling sneakers, a relatively affordable item, something seems wrong with our analysis. \n",
    "\n",
    "1. Think about what could be going wrong with our calculation. Think about a better way to evaluate this data. \n",
    "2. What metric would you report for this dataset?\n",
    "3. What is its value?\n"
   ]
  },
  {
   "cell_type": "code",
   "execution_count": 1,
   "id": "04c7be77",
   "metadata": {},
   "outputs": [],
   "source": [
    "import numpy as np\n",
    "import pandas as pd"
   ]
  },
  {
   "cell_type": "code",
   "execution_count": 2,
   "id": "8a856a85",
   "metadata": {},
   "outputs": [
    {
     "data": {
      "text/html": [
       "<div>\n",
       "<style scoped>\n",
       "    .dataframe tbody tr th:only-of-type {\n",
       "        vertical-align: middle;\n",
       "    }\n",
       "\n",
       "    .dataframe tbody tr th {\n",
       "        vertical-align: top;\n",
       "    }\n",
       "\n",
       "    .dataframe thead th {\n",
       "        text-align: right;\n",
       "    }\n",
       "</style>\n",
       "<table border=\"1\" class=\"dataframe\">\n",
       "  <thead>\n",
       "    <tr style=\"text-align: right;\">\n",
       "      <th></th>\n",
       "      <th>order_id</th>\n",
       "      <th>shop_id</th>\n",
       "      <th>user_id</th>\n",
       "      <th>order_amount</th>\n",
       "      <th>total_items</th>\n",
       "      <th>payment_method</th>\n",
       "      <th>created_at</th>\n",
       "    </tr>\n",
       "  </thead>\n",
       "  <tbody>\n",
       "    <tr>\n",
       "      <th>0</th>\n",
       "      <td>1</td>\n",
       "      <td>53</td>\n",
       "      <td>746</td>\n",
       "      <td>224</td>\n",
       "      <td>2</td>\n",
       "      <td>cash</td>\n",
       "      <td>2017-03-13 12:36:56</td>\n",
       "    </tr>\n",
       "    <tr>\n",
       "      <th>1</th>\n",
       "      <td>2</td>\n",
       "      <td>92</td>\n",
       "      <td>925</td>\n",
       "      <td>90</td>\n",
       "      <td>1</td>\n",
       "      <td>cash</td>\n",
       "      <td>2017-03-03 17:38:52</td>\n",
       "    </tr>\n",
       "    <tr>\n",
       "      <th>2</th>\n",
       "      <td>3</td>\n",
       "      <td>44</td>\n",
       "      <td>861</td>\n",
       "      <td>144</td>\n",
       "      <td>1</td>\n",
       "      <td>cash</td>\n",
       "      <td>2017-03-14 4:23:56</td>\n",
       "    </tr>\n",
       "    <tr>\n",
       "      <th>3</th>\n",
       "      <td>4</td>\n",
       "      <td>18</td>\n",
       "      <td>935</td>\n",
       "      <td>156</td>\n",
       "      <td>1</td>\n",
       "      <td>credit_card</td>\n",
       "      <td>2017-03-26 12:43:37</td>\n",
       "    </tr>\n",
       "    <tr>\n",
       "      <th>4</th>\n",
       "      <td>5</td>\n",
       "      <td>18</td>\n",
       "      <td>883</td>\n",
       "      <td>156</td>\n",
       "      <td>1</td>\n",
       "      <td>credit_card</td>\n",
       "      <td>2017-03-01 4:35:11</td>\n",
       "    </tr>\n",
       "  </tbody>\n",
       "</table>\n",
       "</div>"
      ],
      "text/plain": [
       "   order_id  shop_id  user_id  order_amount  total_items payment_method  \\\n",
       "0         1       53      746           224            2           cash   \n",
       "1         2       92      925            90            1           cash   \n",
       "2         3       44      861           144            1           cash   \n",
       "3         4       18      935           156            1    credit_card   \n",
       "4         5       18      883           156            1    credit_card   \n",
       "\n",
       "            created_at  \n",
       "0  2017-03-13 12:36:56  \n",
       "1  2017-03-03 17:38:52  \n",
       "2   2017-03-14 4:23:56  \n",
       "3  2017-03-26 12:43:37  \n",
       "4   2017-03-01 4:35:11  "
      ]
     },
     "execution_count": 2,
     "metadata": {},
     "output_type": "execute_result"
    }
   ],
   "source": [
    "# Reading Data\n",
    "df=pd.read_csv(\"2019 Winter Data Science Intern Challenge Data Set - Sheet1.csv\")\n",
    "df.head()"
   ]
  },
  {
   "cell_type": "code",
   "execution_count": 3,
   "id": "0f359cd6",
   "metadata": {},
   "outputs": [
    {
     "name": "stdout",
     "output_type": "stream",
     "text": [
      "<class 'pandas.core.frame.DataFrame'>\n",
      "RangeIndex: 5000 entries, 0 to 4999\n",
      "Data columns (total 7 columns):\n",
      " #   Column          Non-Null Count  Dtype \n",
      "---  ------          --------------  ----- \n",
      " 0   order_id        5000 non-null   int64 \n",
      " 1   shop_id         5000 non-null   int64 \n",
      " 2   user_id         5000 non-null   int64 \n",
      " 3   order_amount    5000 non-null   int64 \n",
      " 4   total_items     5000 non-null   int64 \n",
      " 5   payment_method  5000 non-null   object\n",
      " 6   created_at      5000 non-null   object\n",
      "dtypes: int64(5), object(2)\n",
      "memory usage: 273.6+ KB\n"
     ]
    }
   ],
   "source": [
    "df.info()"
   ]
  },
  {
   "cell_type": "markdown",
   "id": "69496193",
   "metadata": {},
   "source": [
    "###### 1.Think about what could be going wrong with our calculation. Think about a better way to evaluate this data. <br>\n",
    "Ans. The average order value is calculated as `sum(order_amount)/total number of orders` by forgetting the fact that an order can have multiple items. The better way to evaluate this data is to consider the `total_items` while calculating average."
   ]
  },
  {
   "cell_type": "code",
   "execution_count": 4,
   "id": "80506f39",
   "metadata": {},
   "outputs": [
    {
     "name": "stdout",
     "output_type": "stream",
     "text": [
      "Average Order Value : $3145.13\n",
      "Detailed Calculation Average : $3145.13\n"
     ]
    }
   ],
   "source": [
    "# Wrong calculation of AOV\n",
    "print(\"Average Order Value : ${:.2f}\".format(df['order_amount'].mean()))\n",
    "\n",
    "#which is same as\n",
    "avg = sum(df['order_amount'])/df['order_amount'].count()\n",
    "print(f\"Detailed Calculation Average : ${avg:.2f}\")"
   ]
  },
  {
   "cell_type": "markdown",
   "id": "15891594",
   "metadata": {},
   "source": [
    "###### 2.What metric would you report for this dataset?\n",
    "Ans. The AOV should be calculated as `sum(order_amount)/sum(total_items)` for the given dataset."
   ]
  },
  {
   "cell_type": "code",
   "execution_count": 5,
   "id": "913fe8ea",
   "metadata": {},
   "outputs": [
    {
     "name": "stdout",
     "output_type": "stream",
     "text": [
      "The Correct Average Order Value = $357.92\n"
     ]
    }
   ],
   "source": [
    "correct_aov = sum(df['order_amount'])/sum(df['total_items'])\n",
    "print(f\"The Correct Average Order Value = ${correct_aov:.2f}\")"
   ]
  },
  {
   "cell_type": "markdown",
   "id": "ac66b5e1",
   "metadata": {},
   "source": [
    "###### 3. What is its value?\n",
    "Ans. The correct AOV is `$357.92` approx."
   ]
  },
  {
   "cell_type": "markdown",
   "id": "3dc03d86",
   "metadata": {},
   "source": [
    "<hr>"
   ]
  },
  {
   "cell_type": "markdown",
   "id": "dbee033e",
   "metadata": {},
   "source": [
    "**Question 2**: For this question you’ll need to use SQL. <a href=\"https://www.w3schools.com/SQL/TRYSQL.ASP?FILENAME=TRYSQL_SELECT_ALL\">Follow this link</a> to access the data set required for the challenge. Please use queries to answer the following questions. Paste your queries along with your final numerical answers below."
   ]
  },
  {
   "cell_type": "markdown",
   "id": "520832a1",
   "metadata": {},
   "source": [
    "**1. How many orders were shipped by Speedy Express in total?**<br>\n",
    "```\n",
    "SELECT COUNT(orderID) AS \"Number of orders shipped by Speedy Express\"\n",
    "FROM Orders JOIN Shippers USING(ShipperID)\n",
    "WHERE ShipperName=\"Speedy Express\";\n",
    "```\n",
    "\n",
    "**Result:**<br>\n",
    "Number of orders shipped by Speedy Express<br>\n",
    "54"
   ]
  },
  {
   "cell_type": "markdown",
   "id": "0352fc10",
   "metadata": {},
   "source": [
    "**2. What is the last name of the employee with the most orders?**\n",
    "```\n",
    "SELECT lastname AS \"Last Name\"\n",
    "FROM (SELECT MAX(totalOrders),lastname \n",
    "\t  FROM (SELECT COUNT(orderId) AS totalOrders, employeeID, lastname \n",
    "\t\t    FROM ORDERS JOIN employees USING(employeeID) GROUP BY employeeID))\n",
    "```\n",
    "**Result:**<br>\n",
    "Last Name<br>\n",
    "Peacock"
   ]
  },
  {
   "cell_type": "markdown",
   "id": "6c539f14",
   "metadata": {},
   "source": [
    "**3. What product was ordered the most by customers in Germany?**\n",
    "```\n",
    "SELECT productName AS \"Product Name\" \n",
    "FROM (SELECT MAX(Total), productName \n",
    "\t\tFROM (SELECT productID, SUM(Quantity) AS Total, productName \n",
    "        \t  FROM (SELECT * FROM Customers JOIN ( SELECT orderID,productID,Quantity,CustomerID \n",
    "                                                   FROM Orders JOIN OrderDetails USING (orderID)) \n",
    "                                            USING (customerID) WHERE LOWER(Country) LIKE \"germany\")\n",
    "              JOIN products USING (productID) GROUP BY productID))\n",
    "```\n",
    "**Result:**<br>\n",
    "Product Name<br>\n",
    "Boston Crab Meat"
   ]
  }
 ],
 "metadata": {
  "kernelspec": {
   "display_name": "Python 3",
   "language": "python",
   "name": "python3"
  },
  "language_info": {
   "codemirror_mode": {
    "name": "ipython",
    "version": 3
   },
   "file_extension": ".py",
   "mimetype": "text/x-python",
   "name": "python",
   "nbconvert_exporter": "python",
   "pygments_lexer": "ipython3",
   "version": "3.9.5"
  }
 },
 "nbformat": 4,
 "nbformat_minor": 5
}
